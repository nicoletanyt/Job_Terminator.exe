{
 "cells": [
  {
   "cell_type": "code",
   "execution_count": 46,
   "metadata": {
    "colab": {
     "base_uri": "https://localhost:8080/",
     "height": 560
    },
    "id": "2jAf1SQLBk7y",
    "outputId": "411f49a2-5b72-4788-c997-83ba41e7fb4c"
   },
   "outputs": [],
   "source": [
    "# import libraries\n",
    "\n",
    "import openai\n",
    "import os\n",
    "import glob\n",
    "from dotenv import load_dotenv, find_dotenv\n",
    "from langchain.evaluation import load_evaluator\n",
    "from langchain.llms import OpenAI\n",
    "import gradio as gr\n",
    "\n",
    "import pandas as pd\n",
    "import json"
   ]
  },
  {
   "cell_type": "code",
   "execution_count": 47,
   "metadata": {},
   "outputs": [],
   "source": [
    "import warnings\n",
    "warnings.filterwarnings(\"ignore\")"
   ]
  },
  {
   "cell_type": "code",
   "execution_count": 48,
   "metadata": {
    "colab": {
     "base_uri": "https://localhost:8080/"
    },
    "id": "vn3hyveafmDB",
    "outputId": "919d22ff-1632-477d-d4a2-46f59cd882be"
   },
   "outputs": [],
   "source": [
    "# load and read data.json\n",
    "\n",
    "with open('data.json') as f:\n",
    "  data = json.load(f)"
   ]
  },
  {
   "cell_type": "code",
   "execution_count": 49,
   "metadata": {
    "colab": {
     "base_uri": "https://localhost:8080/"
    },
    "id": "iNgzlU9o9Apq",
    "outputId": "b4acc92a-82aa-481e-b152-ee5dcb4c967d"
   },
   "outputs": [],
   "source": [
    "# load the env.txt that contains the OPENAI key\n",
    "\n",
    "load_dotenv('env.txt')\n",
    "openai_api_key = os.getenv('OPENAI_API_KEY')"
   ]
  },
  {
   "cell_type": "code",
   "execution_count": 50,
   "metadata": {
    "colab": {
     "base_uri": "https://localhost:8080/"
    },
    "id": "GB_YDDxoMSBR",
    "outputId": "5c541321-4dae-4fd0-94e6-f3d31985b83f"
   },
   "outputs": [],
   "source": [
    "llm = OpenAI(\n",
    "    openai_api_key=openai_api_key,\n",
    "    model ='gpt-3.5-turbo-instruct'\n",
    ")\n",
    "textType = None"
   ]
  },
  {
   "cell_type": "code",
   "execution_count": 51,
   "metadata": {},
   "outputs": [],
   "source": [
    "feedback = \"Your narrative effectively captures the tension, excitement, and triumph of your debate team's journey. Here are some strengths: Engaging Opening: The beginning of your story draws the reader in by describing the nervous atmosphere and the stakes involved in the debate competition. It effectively sets the stage for the rest of the narrative. Well-Developed Characters: You provide a glimpse into the personalities and emotions of the characters, particularly the protagonist and their team. The coach's reassurance, the competitors' condescending behavior, and the team's reaction after the win all contribute to a well-rounded story. Effective Use of Descriptive Language: Your use of descriptive language helps paint a vivid picture of the scene. The physical sensations of anxiety, the discomfort of the formal uniform, and the tightness of the tie contribute to the reader's immersion in the story. Narrative Arc and Resolution: The narrative follows a clear arc from nervous anticipation to the surprising victory and the subsequent confrontation with the opposing team. The resolution, where the underdogs stand up for themselves, adds a satisfying conclusion to the story. Themes of Resilience and Triumph: The story effectively conveys themes of resilience, determination, and triumph in the face of adversity. The underdog narrative is a powerful and relatable element that many readers can connect with. Areas for Consideration: Show, Don't Tell: While you do a good job describing the physical sensations and emotions, consider showing more of the characters' internal thoughts and reactions. This can enhance the reader's connection to the characters and their experiences. Dialogue Punctuation: Pay attention to the punctuation of your dialogue. For example, use commas or periods inside quotation marks, and make sure each speaker's dialogue is on a new line. Diverse Sentence Structure: While your sentence structure is generally varied, consider experimenting with different sentence lengths and structures to add more dynamic flow to the narrative. Deepening Emotional Impact: Explore opportunities to deepen the emotional impact of certain moments, such as the announcement of the winner. Delve into the characters' thoughts and feelings to convey the magnitude of their emotions. Overall, your narrative is compelling and successfully conveys the triumph of the underdog team. With a few adjustments, you can enhance certain elements to create an even more immersive and emotionally resonant experience for the reader.\""
   ]
  },
  {
   "cell_type": "code",
   "execution_count": 52,
   "metadata": {
    "id": "yjU2ImqkieI5"
   },
   "outputs": [],
   "source": [
    "narrative_custom_criterion = {\n",
    "    \"grammar\": (\n",
    "        \"Does the essay follow proper grammar rules?\"\n",
    "        \"Does the essay follow proper pronunciation rules?\"\n",
    "        \"Does the output use a robust dictionary of vocabulary?\"\n",
    "    ),\n",
    "    \"coherence\": \"Does the output have a coherent flow of ideas?\",\n",
    "    \"relevance\":\"Does the output fully address the task?\",\n",
    "    \"description\":\"Does the output include sensory words?\",\n",
    "    \"characters\":\"Does the output capture the personality or emotions of the characters in the story?\",\n",
    "    \"openings\": \"Does the output have an engaging opening?\"\n",
    "}"
   ]
  },
  {
   "cell_type": "code",
   "execution_count": 53,
   "metadata": {},
   "outputs": [],
   "source": [
    "argumentative_custom_criterion = {\n",
    "    \"grammar\": \"Does the output follow proper grammar, spelling, and pronunciation rules?\",\n",
    "    \"coherence\": \"Does the output have a coherent flow of ideas?\",\n",
    "    \"vocabulary\":\"Does the output use a robust dictionary of vocabulary?\",\n",
    "    \"relevance\":\"Does the output fully address the task?\",\n",
    "    \"attention\":\"Does the output capture your attention?\",\n",
    "    \n",
    "}"
   ]
  },
  {
   "cell_type": "code",
   "execution_count": 54,
   "metadata": {
    "colab": {
     "base_uri": "https://localhost:8080/",
     "height": 334
    },
    "id": "uNa_hZLw_noy",
    "outputId": "6c7716ec-b75c-4e14-f28f-8dc5bb33e365"
   },
   "outputs": [],
   "source": [
    "def model(textType):\n",
    "        if textType.lower() == \"narrative\":\n",
    "                evaluator = load_evaluator(\"context_qa\", criteria=\"narrative_custom_criterion\", llm=llm)\n",
    "        elif textType.lower() == \"argumentative\":\n",
    "                evaluator = load_evaluator(\"context_qa\", criteria=\"argumentative_custom_criterion\", llm=llm)\n",
    "        evalReso = evaluator.evaluate_strings(\n",
    "                prediction=\"You are a Cambridge O-Level English teacher who is marking English Paper 1 Composition Scripts, please use the marking criterias to mark\",\n",
    "                input=\"Evaluate this essay using\",\n",
    "        )"
   ]
  },
  {
   "cell_type": "code",
   "execution_count": 55,
   "metadata": {
    "id": "NRnBjgYuMvyh"
   },
   "outputs": [],
   "source": [
    "def eval(source,essay_type,essay):\n",
    "    source,essay_type,essay = source,essay_type,essay\n",
    "    model(essay_type)"
   ]
  },
  {
   "cell_type": "code",
   "execution_count": 56,
   "metadata": {},
   "outputs": [
    {
     "name": "stdout",
     "output_type": "stream",
     "text": [
      "Running on local URL:  http://127.0.0.1:7862\n",
      "\n",
      "To create a public link, set `share=True` in `launch()`.\n"
     ]
    },
    {
     "data": {
      "text/html": [
       "<div><iframe src=\"http://127.0.0.1:7862/\" width=\"100%\" height=\"500\" allow=\"autoplay; camera; microphone; clipboard-read; clipboard-write;\" frameborder=\"0\" allowfullscreen></iframe></div>"
      ],
      "text/plain": [
       "<IPython.core.display.HTML object>"
      ]
     },
     "metadata": {},
     "output_type": "display_data"
    },
    {
     "data": {
      "text/plain": []
     },
     "execution_count": 56,
     "metadata": {},
     "output_type": "execute_result"
    },
    {
     "name": "stdout",
     "output_type": "stream",
     "text": [
      "narrative\n",
      "!\n"
     ]
    },
    {
     "name": "stderr",
     "output_type": "stream",
     "text": [
      "Traceback (most recent call last):\n",
      "  File \"/opt/homebrew/lib/python3.11/site-packages/gradio/queueing.py\", line 495, in call_prediction\n",
      "    output = await route_utils.call_process_api(\n",
      "             ^^^^^^^^^^^^^^^^^^^^^^^^^^^^^^^^^^^\n",
      "  File \"/opt/homebrew/lib/python3.11/site-packages/gradio/route_utils.py\", line 232, in call_process_api\n",
      "    output = await app.get_blocks().process_api(\n",
      "             ^^^^^^^^^^^^^^^^^^^^^^^^^^^^^^^^^^^\n",
      "  File \"/opt/homebrew/lib/python3.11/site-packages/gradio/blocks.py\", line 1561, in process_api\n",
      "    result = await self.call_function(\n",
      "             ^^^^^^^^^^^^^^^^^^^^^^^^^\n",
      "  File \"/opt/homebrew/lib/python3.11/site-packages/gradio/blocks.py\", line 1179, in call_function\n",
      "    prediction = await anyio.to_thread.run_sync(\n",
      "                 ^^^^^^^^^^^^^^^^^^^^^^^^^^^^^^^\n",
      "  File \"/opt/homebrew/lib/python3.11/site-packages/anyio/to_thread.py\", line 56, in run_sync\n",
      "    return await get_async_backend().run_sync_in_worker_thread(\n",
      "           ^^^^^^^^^^^^^^^^^^^^^^^^^^^^^^^^^^^^^^^^^^^^^^^^^^^^\n",
      "  File \"/opt/homebrew/lib/python3.11/site-packages/anyio/_backends/_asyncio.py\", line 2134, in run_sync_in_worker_thread\n",
      "    return await future\n",
      "           ^^^^^^^^^^^^\n",
      "  File \"/opt/homebrew/lib/python3.11/site-packages/anyio/_backends/_asyncio.py\", line 851, in run\n",
      "    result = context.run(func, *args)\n",
      "             ^^^^^^^^^^^^^^^^^^^^^^^^\n",
      "  File \"/opt/homebrew/lib/python3.11/site-packages/gradio/utils.py\", line 678, in wrapper\n",
      "    response = f(*args, **kwargs)\n",
      "               ^^^^^^^^^^^^^^^^^^\n",
      "  File \"/var/folders/j5/jkmc_7cj44bbbdvx7swyqpch0000gn/T/ipykernel_8316/2462729634.py\", line 4, in eval\n",
      "    model(essay_type)\n",
      "  File \"/var/folders/j5/jkmc_7cj44bbbdvx7swyqpch0000gn/T/ipykernel_8316/3441321291.py\", line 7, in model\n",
      "    evalReso = evaluator.evaluate_strings(\n",
      "               ^^^^^^^^^^^^^^^^^^^^^^^^^^^\n",
      "  File \"/opt/homebrew/lib/python3.11/site-packages/langchain/evaluation/schema.py\", line 218, in evaluate_strings\n",
      "    self._check_evaluation_args(reference=reference, input=input)\n",
      "  File \"/opt/homebrew/lib/python3.11/site-packages/langchain/evaluation/schema.py\", line 126, in _check_evaluation_args\n",
      "    raise ValueError(f\"{self.__class__.__name__} requires a reference string.\")\n",
      "ValueError: ContextQAEvalChain requires a reference string.\n"
     ]
    }
   ],
   "source": [
    "demo = gr.Interface(\n",
    "    eval,\n",
    "    [\"text\",\"text\",\"text\"],\n",
    "    \"text\",\n",
    "    title = f'O level  Essay Grader'\n",
    ")\n",
    "demo.launch()  "
   ]
  },
  {
   "cell_type": "code",
   "execution_count": null,
   "metadata": {},
   "outputs": [],
   "source": []
  }
 ],
 "metadata": {
  "colab": {
   "provenance": []
  },
  "kernelspec": {
   "display_name": "Python 3 (ipykernel)",
   "language": "python",
   "name": "python3"
  },
  "language_info": {
   "codemirror_mode": {
    "name": "ipython",
    "version": 3
   },
   "file_extension": ".py",
   "mimetype": "text/x-python",
   "name": "python",
   "nbconvert_exporter": "python",
   "pygments_lexer": "ipython3",
   "version": "3.11.5"
  }
 },
 "nbformat": 4,
 "nbformat_minor": 1
}
